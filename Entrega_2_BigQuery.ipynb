{
  "nbformat": 4,
  "nbformat_minor": 0,
  "metadata": {
    "colab": {
      "provenance": []
    },
    "kernelspec": {
      "name": "python3",
      "display_name": "Python 3"
    },
    "language_info": {
      "name": "python"
    }
  },
  "cells": [
    {
      "cell_type": "code",
      "execution_count": null,
      "metadata": {
        "id": "GHYl9eyMe85X"
      },
      "outputs": [],
      "source": [
        "## Se deben instalar todas las librerias que se colocan en el cajon de abajo"
      ]
    },
    {
      "cell_type": "code",
      "source": [
        "!pip install pandas   #biblioteca de Python utilizada para el análisis y la manipulación de datos.\n",
        "!pip install numpy    # biblioteca de Python utilizada para el cálculo numérico y matemático.\n",
        "!pip install pandas_profiling\n",
        "!pip install --upgrade google-cloud-bigquery\n",
        "!pip install pandas-gbq"
      ],
      "metadata": {
        "id": "GTgXsAycX2IG"
      },
      "execution_count": null,
      "outputs": []
    },
    {
      "cell_type": "code",
      "source": [
        "from google.colab import drive    #Estas líneas de código se utilizan para montar el sistema de archivos de Google Drive en Google Colab.\n",
        "drive.mount('/content/drive')\n",
        "import pandas as pd   \n",
        "import numpy as np  \n",
        "from google.cloud import bigquery\n",
        "from google.oauth2 import service_account\n",
        "import random\n",
        "import string\n",
        "import re\n"
      ],
      "metadata": {
        "colab": {
          "base_uri": "https://localhost:8080/"
        },
        "id": "X802xOwufZgu",
        "outputId": "c8aeb963-b301-4e5c-f241-eeffd3298635"
      },
      "execution_count": null,
      "outputs": [
        {
          "output_type": "stream",
          "name": "stdout",
          "text": [
            "Mounted at /content/drive\n"
          ]
        }
      ]
    },
    {
      "cell_type": "markdown",
      "source": [
        "\n",
        " ## Credenciales:\n",
        "\n"
      ],
      "metadata": {
        "id": "i8AM46Qt6SPr"
      }
    },
    {
      "cell_type": "code",
      "source": [
        "## El archivo Json que nos arroja Bigquery con credenciales, debera ser colocado en una carpeta dentro de nuestros archivos de drive y de alli se llamara invocandolo desde la ruta donde se encuentra."
      ],
      "metadata": {
        "id": "nX9tnk5zYC80"
      },
      "execution_count": null,
      "outputs": []
    },
    {
      "cell_type": "code",
      "source": [
        "credentials = service_account.Credentials.from_service_account_file(\"/content/drive/MyDrive/Gestion_de_Datos/Entrega_Proyecto/datos_clave.json\", scopes=[\"https://www.googleapis.com/auth/cloud-platform\"])\n",
        "client = bigquery.Client(credentials=credentials, project=credentials.project_id)"
      ],
      "metadata": {
        "id": "MviatIW_6Skg"
      },
      "execution_count": null,
      "outputs": []
    },
    {
      "cell_type": "code",
      "source": [
        "## Se llaman los archivos originales y se hace los tratamientos correspondientes.\n",
        "artists_mod = pd.read_csv(\"/content/drive/MyDrive/Gestion_de_Datos/Entrega_Proyecto/artists_mod.csv\") #La función \"pd.read_csv()\" de la biblioteca Pandas toma como argumento la ruta del archivo CSV y devuelve un DataFrame de Pandas que contiene los datos del archivo. \n",
        "tracks_mod =  pd.read_csv(\"/content/drive/MyDrive/Gestion_de_Datos/Entrega_Proyecto/tracks_mod.csv\")"
      ],
      "metadata": {
        "id": "xFGQzDr0fZm3"
      },
      "execution_count": null,
      "outputs": []
    },
    {
      "cell_type": "markdown",
      "source": [
        "# Desarrollo ETL"
      ],
      "metadata": {
        "id": "dZUNLkw20cT8"
      }
    },
    {
      "cell_type": "markdown",
      "source": [
        "## artists_mod"
      ],
      "metadata": {
        "id": "ybKKhBty0kxI"
      }
    },
    {
      "cell_type": "code",
      "source": [
        "artists_mod.head(5)##Esta línea de código  la función \"head()\" del DataFrame \"artists_mod\" para mostrar las primeras 5 filas del DataFrame en la consola."
      ],
      "metadata": {
        "colab": {
          "base_uri": "https://localhost:8080/",
          "height": 206
        },
        "id": "qunwzWV6fZpn",
        "outputId": "101b6fd7-968c-4e2c-ec8f-a2b1f8e74fe2"
      },
      "execution_count": null,
      "outputs": [
        {
          "output_type": "execute_result",
          "data": {
            "text/plain": [
              "                       id  followers genres  \\\n",
              "0  0DheY5irMjBUeLybbCUEZ2        0.0     []   \n",
              "1  0DlhY15l3wsrnlfGio2bjU        5.0     []   \n",
              "2  0DmRESX2JknGPQyO15yxg7        0.0     []   \n",
              "3  0DmhnbHjm1qw6NCYPeZNgJ        0.0     []   \n",
              "4  0Dn11fWM7vHQ3rinvWEl4E        2.0     []   \n",
              "\n",
              "                                             name  popularity  \n",
              "0  Armid & Amir Zare Pashai feat. Sara Rouzbehani           0  \n",
              "1                                     ปูนา ภาวิณี           0  \n",
              "2                                           Sadaa           0  \n",
              "3                                       Tra'gruda           0  \n",
              "4                          Ioannis Panoutsopoulos           0  "
            ],
            "text/html": [
              "\n",
              "  <div id=\"df-29cb239f-83ac-4eec-92ec-6b0f314fda0c\">\n",
              "    <div class=\"colab-df-container\">\n",
              "      <div>\n",
              "<style scoped>\n",
              "    .dataframe tbody tr th:only-of-type {\n",
              "        vertical-align: middle;\n",
              "    }\n",
              "\n",
              "    .dataframe tbody tr th {\n",
              "        vertical-align: top;\n",
              "    }\n",
              "\n",
              "    .dataframe thead th {\n",
              "        text-align: right;\n",
              "    }\n",
              "</style>\n",
              "<table border=\"1\" class=\"dataframe\">\n",
              "  <thead>\n",
              "    <tr style=\"text-align: right;\">\n",
              "      <th></th>\n",
              "      <th>id</th>\n",
              "      <th>followers</th>\n",
              "      <th>genres</th>\n",
              "      <th>name</th>\n",
              "      <th>popularity</th>\n",
              "    </tr>\n",
              "  </thead>\n",
              "  <tbody>\n",
              "    <tr>\n",
              "      <th>0</th>\n",
              "      <td>0DheY5irMjBUeLybbCUEZ2</td>\n",
              "      <td>0.0</td>\n",
              "      <td>[]</td>\n",
              "      <td>Armid &amp; Amir Zare Pashai feat. Sara Rouzbehani</td>\n",
              "      <td>0</td>\n",
              "    </tr>\n",
              "    <tr>\n",
              "      <th>1</th>\n",
              "      <td>0DlhY15l3wsrnlfGio2bjU</td>\n",
              "      <td>5.0</td>\n",
              "      <td>[]</td>\n",
              "      <td>ปูนา ภาวิณี</td>\n",
              "      <td>0</td>\n",
              "    </tr>\n",
              "    <tr>\n",
              "      <th>2</th>\n",
              "      <td>0DmRESX2JknGPQyO15yxg7</td>\n",
              "      <td>0.0</td>\n",
              "      <td>[]</td>\n",
              "      <td>Sadaa</td>\n",
              "      <td>0</td>\n",
              "    </tr>\n",
              "    <tr>\n",
              "      <th>3</th>\n",
              "      <td>0DmhnbHjm1qw6NCYPeZNgJ</td>\n",
              "      <td>0.0</td>\n",
              "      <td>[]</td>\n",
              "      <td>Tra'gruda</td>\n",
              "      <td>0</td>\n",
              "    </tr>\n",
              "    <tr>\n",
              "      <th>4</th>\n",
              "      <td>0Dn11fWM7vHQ3rinvWEl4E</td>\n",
              "      <td>2.0</td>\n",
              "      <td>[]</td>\n",
              "      <td>Ioannis Panoutsopoulos</td>\n",
              "      <td>0</td>\n",
              "    </tr>\n",
              "  </tbody>\n",
              "</table>\n",
              "</div>\n",
              "      <button class=\"colab-df-convert\" onclick=\"convertToInteractive('df-29cb239f-83ac-4eec-92ec-6b0f314fda0c')\"\n",
              "              title=\"Convert this dataframe to an interactive table.\"\n",
              "              style=\"display:none;\">\n",
              "        \n",
              "  <svg xmlns=\"http://www.w3.org/2000/svg\" height=\"24px\"viewBox=\"0 0 24 24\"\n",
              "       width=\"24px\">\n",
              "    <path d=\"M0 0h24v24H0V0z\" fill=\"none\"/>\n",
              "    <path d=\"M18.56 5.44l.94 2.06.94-2.06 2.06-.94-2.06-.94-.94-2.06-.94 2.06-2.06.94zm-11 1L8.5 8.5l.94-2.06 2.06-.94-2.06-.94L8.5 2.5l-.94 2.06-2.06.94zm10 10l.94 2.06.94-2.06 2.06-.94-2.06-.94-.94-2.06-.94 2.06-2.06.94z\"/><path d=\"M17.41 7.96l-1.37-1.37c-.4-.4-.92-.59-1.43-.59-.52 0-1.04.2-1.43.59L10.3 9.45l-7.72 7.72c-.78.78-.78 2.05 0 2.83L4 21.41c.39.39.9.59 1.41.59.51 0 1.02-.2 1.41-.59l7.78-7.78 2.81-2.81c.8-.78.8-2.07 0-2.86zM5.41 20L4 18.59l7.72-7.72 1.47 1.35L5.41 20z\"/>\n",
              "  </svg>\n",
              "      </button>\n",
              "      \n",
              "  <style>\n",
              "    .colab-df-container {\n",
              "      display:flex;\n",
              "      flex-wrap:wrap;\n",
              "      gap: 12px;\n",
              "    }\n",
              "\n",
              "    .colab-df-convert {\n",
              "      background-color: #E8F0FE;\n",
              "      border: none;\n",
              "      border-radius: 50%;\n",
              "      cursor: pointer;\n",
              "      display: none;\n",
              "      fill: #1967D2;\n",
              "      height: 32px;\n",
              "      padding: 0 0 0 0;\n",
              "      width: 32px;\n",
              "    }\n",
              "\n",
              "    .colab-df-convert:hover {\n",
              "      background-color: #E2EBFA;\n",
              "      box-shadow: 0px 1px 2px rgba(60, 64, 67, 0.3), 0px 1px 3px 1px rgba(60, 64, 67, 0.15);\n",
              "      fill: #174EA6;\n",
              "    }\n",
              "\n",
              "    [theme=dark] .colab-df-convert {\n",
              "      background-color: #3B4455;\n",
              "      fill: #D2E3FC;\n",
              "    }\n",
              "\n",
              "    [theme=dark] .colab-df-convert:hover {\n",
              "      background-color: #434B5C;\n",
              "      box-shadow: 0px 1px 3px 1px rgba(0, 0, 0, 0.15);\n",
              "      filter: drop-shadow(0px 1px 2px rgba(0, 0, 0, 0.3));\n",
              "      fill: #FFFFFF;\n",
              "    }\n",
              "  </style>\n",
              "\n",
              "      <script>\n",
              "        const buttonEl =\n",
              "          document.querySelector('#df-29cb239f-83ac-4eec-92ec-6b0f314fda0c button.colab-df-convert');\n",
              "        buttonEl.style.display =\n",
              "          google.colab.kernel.accessAllowed ? 'block' : 'none';\n",
              "\n",
              "        async function convertToInteractive(key) {\n",
              "          const element = document.querySelector('#df-29cb239f-83ac-4eec-92ec-6b0f314fda0c');\n",
              "          const dataTable =\n",
              "            await google.colab.kernel.invokeFunction('convertToInteractive',\n",
              "                                                     [key], {});\n",
              "          if (!dataTable) return;\n",
              "\n",
              "          const docLinkHtml = 'Like what you see? Visit the ' +\n",
              "            '<a target=\"_blank\" href=https://colab.research.google.com/notebooks/data_table.ipynb>data table notebook</a>'\n",
              "            + ' to learn more about interactive tables.';\n",
              "          element.innerHTML = '';\n",
              "          dataTable['output_type'] = 'display_data';\n",
              "          await google.colab.output.renderOutput(dataTable, element);\n",
              "          const docLink = document.createElement('div');\n",
              "          docLink.innerHTML = docLinkHtml;\n",
              "          element.appendChild(docLink);\n",
              "        }\n",
              "      </script>\n",
              "    </div>\n",
              "  </div>\n",
              "  "
            ]
          },
          "metadata": {},
          "execution_count": 10
        }
      ]
    },
    {
      "cell_type": "code",
      "source": [
        "artists_mod.isna().sum() #Esta funcion  devuelve la suma de valores nulos (NaN) por columna en un DataFrame llamado artists_mod. \n",
        "artists_mod = artists_mod.dropna() # Quitamos los registros NA en el dataframe.\n",
        "artists_mod = artists_mod.assign( genres = artists_mod[\"genres\"].replace('[]','[Uknown]'))\n",
        "artists_mod[\"genres\"] = artists_mod[\"genres\"].str.replace(\"'\",\"\")\n",
        "artists_mod[\"genres\"] = artists_mod[\"genres\"].str.replace(\"[\",\"\")\n",
        "artists_mod[\"genres\"] = artists_mod[\"genres\"].str.replace(\"]\",\"\")\n"
      ],
      "metadata": {
        "id": "Ouglog9V0iGW",
        "colab": {
          "base_uri": "https://localhost:8080/"
        },
        "outputId": "6a787181-5e3d-46bb-c0e5-ef705c6590e9"
      },
      "execution_count": null,
      "outputs": [
        {
          "output_type": "stream",
          "name": "stderr",
          "text": [
            "<ipython-input-12-382ea0537390>:5: FutureWarning: The default value of regex will change from True to False in a future version. In addition, single character regular expressions will *not* be treated as literal strings when regex=True.\n",
            "  artists_mod[\"genres\"] = artists_mod[\"genres\"].str.replace(\"[\",\"\")\n",
            "<ipython-input-12-382ea0537390>:6: FutureWarning: The default value of regex will change from True to False in a future version. In addition, single character regular expressions will *not* be treated as literal strings when regex=True.\n",
            "  artists_mod[\"genres\"] = artists_mod[\"genres\"].str.replace(\"]\",\"\")\n"
          ]
        }
      ]
    },
    {
      "cell_type": "code",
      "source": [
        "# Configuramos los campos que tendra la tabla en BQ.\n",
        "job_config_artist = bigquery.LoadJobConfig(\n",
        "    schema=[\n",
        "        # Supported datatypes: https://cloud.google.com/bigquery/docs/reference/standard-sql/data-types\n",
        "        bigquery.SchemaField(\"id\", bigquery.enums.SqlTypeNames.STRING),\n",
        "        bigquery.SchemaField(\"followers\", bigquery.enums.SqlTypeNames.FLOAT64),\n",
        "        bigquery.SchemaField(\"genres\", bigquery.enums.SqlTypeNames.STRING),\n",
        "        bigquery.SchemaField(\"name\", bigquery.enums.SqlTypeNames.STRING),\n",
        "        bigquery.SchemaField(\"popularity\", bigquery.enums.SqlTypeNames.FLOAT64)\n",
        "    ],\n",
        "    # Drod and re-create table, if exist\n",
        "    write_disposition=\"WRITE_TRUNCATE\"\n",
        ")"
      ],
      "metadata": {
        "id": "PsMW0RR2fZtj"
      },
      "execution_count": null,
      "outputs": []
    },
    {
      "cell_type": "code",
      "source": [
        "## Establecemos el nombre y la ruta de la tabla en bigquery.\n",
        "BQ_TABLE_NAME_artist = f\"tablas_proyecto.artists_mod\"\n"
      ],
      "metadata": {
        "id": "kcodQEyCfZxF"
      },
      "execution_count": null,
      "outputs": []
    },
    {
      "cell_type": "code",
      "source": [
        "# Enviamos la Tabla a Bigquery.\n",
        "job = client.load_table_from_dataframe(artists_mod, BQ_TABLE_NAME_artist, job_config=job_config_artist)\n",
        "job.result()"
      ],
      "metadata": {
        "colab": {
          "base_uri": "https://localhost:8080/"
        },
        "id": "oHijSltjfZz0",
        "outputId": "80e05b68-7097-4ff8-883a-9c876350ef06"
      },
      "execution_count": null,
      "outputs": [
        {
          "output_type": "execute_result",
          "data": {
            "text/plain": [
              "LoadJob<project=proyecto-gestion-datos, location=US, id=8959e00d-59a4-4823-8b57-d93123db85af>"
            ]
          },
          "metadata": {},
          "execution_count": 15
        }
      ]
    },
    {
      "cell_type": "code",
      "source": [
        "# Verificamos si el proceso de subida de la tabla a nuestro espacio fue exitoso.\n",
        "table = client.get_table(BQ_TABLE_NAME_artist)\n",
        "print(\"Loaded {} rows and {} columns to {}\".format(table.num_rows, len(table.schema), BQ_TABLE_NAME_artist)) "
      ],
      "metadata": {
        "colab": {
          "base_uri": "https://localhost:8080/"
        },
        "id": "mECAyvr6rmzZ",
        "outputId": "7daecdc6-ca68-4253-bc14-cb8fc1e278bf"
      },
      "execution_count": null,
      "outputs": [
        {
          "output_type": "stream",
          "name": "stdout",
          "text": [
            "Loaded 1162084 rows and 5 columns to tablas_proyecto.artists_mod\n"
          ]
        }
      ]
    },
    {
      "cell_type": "code",
      "source": [],
      "metadata": {
        "id": "2Bp1r5Vzrm3A"
      },
      "execution_count": null,
      "outputs": []
    },
    {
      "cell_type": "markdown",
      "source": [
        "## tracks_mod"
      ],
      "metadata": {
        "id": "_wh9Fb2q-ncE"
      }
    },
    {
      "cell_type": "code",
      "source": [
        "tracks_mod = tracks_mod.dropna()\n",
        "tracks_mod[\"artists\"] = tracks_mod[\"artists\"].str.replace(\"'\",\"\")\n",
        "tracks_mod[\"artists\"] = tracks_mod[\"artists\"].str.replace(\"[\",\"\")\n",
        "tracks_mod[\"artists\"] = tracks_mod[\"artists\"].str.replace(\"]\",\"\")\n",
        "tracks_mod[\"id_artists\"] = tracks_mod[\"id_artists\"].str.replace(\"'\",\"\")\n",
        "tracks_mod[\"id_artists\"] = tracks_mod[\"id_artists\"].str.replace(\"[\",\"\")\n",
        "tracks_mod[\"id_artists\"] = tracks_mod[\"id_artists\"].str.replace(\"]\",\"\")\n"
      ],
      "metadata": {
        "colab": {
          "base_uri": "https://localhost:8080/"
        },
        "id": "nkWE5NRhAGrN",
        "outputId": "88f92f44-b8b5-4bf7-b158-ca782547b107"
      },
      "execution_count": null,
      "outputs": [
        {
          "output_type": "stream",
          "name": "stderr",
          "text": [
            "<ipython-input-17-4bef33e128de>:3: FutureWarning: The default value of regex will change from True to False in a future version. In addition, single character regular expressions will *not* be treated as literal strings when regex=True.\n",
            "  tracks_mod[\"artists\"] = tracks_mod[\"artists\"].str.replace(\"[\",\"\")\n",
            "<ipython-input-17-4bef33e128de>:4: FutureWarning: The default value of regex will change from True to False in a future version. In addition, single character regular expressions will *not* be treated as literal strings when regex=True.\n",
            "  tracks_mod[\"artists\"] = tracks_mod[\"artists\"].str.replace(\"]\",\"\")\n",
            "<ipython-input-17-4bef33e128de>:6: FutureWarning: The default value of regex will change from True to False in a future version. In addition, single character regular expressions will *not* be treated as literal strings when regex=True.\n",
            "  tracks_mod[\"id_artists\"] = tracks_mod[\"id_artists\"].str.replace(\"[\",\"\")\n",
            "<ipython-input-17-4bef33e128de>:7: FutureWarning: The default value of regex will change from True to False in a future version. In addition, single character regular expressions will *not* be treated as literal strings when regex=True.\n",
            "  tracks_mod[\"id_artists\"] = tracks_mod[\"id_artists\"].str.replace(\"]\",\"\")\n"
          ]
        }
      ]
    },
    {
      "cell_type": "code",
      "source": [
        "tracks_mod.head(3)"
      ],
      "metadata": {
        "colab": {
          "base_uri": "https://localhost:8080/",
          "height": 277
        },
        "id": "yhUAKh5p-KER",
        "outputId": "d06842c8-a636-41cc-cdd5-06f0ec8ea8ad"
      },
      "execution_count": null,
      "outputs": [
        {
          "output_type": "execute_result",
          "data": {
            "text/plain": [
              "                       id                                 name  popularity  \\\n",
              "0  35iwgR4jXetI318WEWsa1Q                                Carve         6.0   \n",
              "1  021ht4sdgPcrDgSk7JTbKY  Capítulo 2.16 - Banquero Anarquista         0.0   \n",
              "2  07A5yehtSnoedViJAZkNnc   Vivo para Quererte - Remasterizado         0.0   \n",
              "\n",
              "   duration_ms  explicit          artists              id_artists  \\\n",
              "0       126903         0              Uli  45tIt06XoI0Iio4LBEVpls   \n",
              "1        98200         0  Fernando Pessoa  14jtPCOoNZwquk5wd9DxrY   \n",
              "2       181640         0  Ignacio Corsini  5LiOoJbxVSAMkBS2fUm3X2   \n",
              "\n",
              "  release_date  danceability  energy  key  loudness  mode  speechiness  \\\n",
              "0   1922-02-22         0.645   0.445  0.0   -13.338   1.0       0.4510   \n",
              "1   1922-06-01         0.695   0.263  0.0   -22.136   1.0       0.9570   \n",
              "2   1922-03-21         0.434   0.177  1.0   -21.180   1.0       0.0512   \n",
              "\n",
              "   acousticness  instrumentalness  liveness  valence    tempo  time_signature  \n",
              "0         0.674            0.7440     0.151    0.127  104.851             3.0  \n",
              "1         0.797            0.0000     0.148    0.655  102.009             1.0  \n",
              "2         0.994            0.0218     0.212    0.457  130.418             5.0  "
            ],
            "text/html": [
              "\n",
              "  <div id=\"df-932dcd66-f862-4163-8259-76ec6826f10f\">\n",
              "    <div class=\"colab-df-container\">\n",
              "      <div>\n",
              "<style scoped>\n",
              "    .dataframe tbody tr th:only-of-type {\n",
              "        vertical-align: middle;\n",
              "    }\n",
              "\n",
              "    .dataframe tbody tr th {\n",
              "        vertical-align: top;\n",
              "    }\n",
              "\n",
              "    .dataframe thead th {\n",
              "        text-align: right;\n",
              "    }\n",
              "</style>\n",
              "<table border=\"1\" class=\"dataframe\">\n",
              "  <thead>\n",
              "    <tr style=\"text-align: right;\">\n",
              "      <th></th>\n",
              "      <th>id</th>\n",
              "      <th>name</th>\n",
              "      <th>popularity</th>\n",
              "      <th>duration_ms</th>\n",
              "      <th>explicit</th>\n",
              "      <th>artists</th>\n",
              "      <th>id_artists</th>\n",
              "      <th>release_date</th>\n",
              "      <th>danceability</th>\n",
              "      <th>energy</th>\n",
              "      <th>key</th>\n",
              "      <th>loudness</th>\n",
              "      <th>mode</th>\n",
              "      <th>speechiness</th>\n",
              "      <th>acousticness</th>\n",
              "      <th>instrumentalness</th>\n",
              "      <th>liveness</th>\n",
              "      <th>valence</th>\n",
              "      <th>tempo</th>\n",
              "      <th>time_signature</th>\n",
              "    </tr>\n",
              "  </thead>\n",
              "  <tbody>\n",
              "    <tr>\n",
              "      <th>0</th>\n",
              "      <td>35iwgR4jXetI318WEWsa1Q</td>\n",
              "      <td>Carve</td>\n",
              "      <td>6.0</td>\n",
              "      <td>126903</td>\n",
              "      <td>0</td>\n",
              "      <td>Uli</td>\n",
              "      <td>45tIt06XoI0Iio4LBEVpls</td>\n",
              "      <td>1922-02-22</td>\n",
              "      <td>0.645</td>\n",
              "      <td>0.445</td>\n",
              "      <td>0.0</td>\n",
              "      <td>-13.338</td>\n",
              "      <td>1.0</td>\n",
              "      <td>0.4510</td>\n",
              "      <td>0.674</td>\n",
              "      <td>0.7440</td>\n",
              "      <td>0.151</td>\n",
              "      <td>0.127</td>\n",
              "      <td>104.851</td>\n",
              "      <td>3.0</td>\n",
              "    </tr>\n",
              "    <tr>\n",
              "      <th>1</th>\n",
              "      <td>021ht4sdgPcrDgSk7JTbKY</td>\n",
              "      <td>Capítulo 2.16 - Banquero Anarquista</td>\n",
              "      <td>0.0</td>\n",
              "      <td>98200</td>\n",
              "      <td>0</td>\n",
              "      <td>Fernando Pessoa</td>\n",
              "      <td>14jtPCOoNZwquk5wd9DxrY</td>\n",
              "      <td>1922-06-01</td>\n",
              "      <td>0.695</td>\n",
              "      <td>0.263</td>\n",
              "      <td>0.0</td>\n",
              "      <td>-22.136</td>\n",
              "      <td>1.0</td>\n",
              "      <td>0.9570</td>\n",
              "      <td>0.797</td>\n",
              "      <td>0.0000</td>\n",
              "      <td>0.148</td>\n",
              "      <td>0.655</td>\n",
              "      <td>102.009</td>\n",
              "      <td>1.0</td>\n",
              "    </tr>\n",
              "    <tr>\n",
              "      <th>2</th>\n",
              "      <td>07A5yehtSnoedViJAZkNnc</td>\n",
              "      <td>Vivo para Quererte - Remasterizado</td>\n",
              "      <td>0.0</td>\n",
              "      <td>181640</td>\n",
              "      <td>0</td>\n",
              "      <td>Ignacio Corsini</td>\n",
              "      <td>5LiOoJbxVSAMkBS2fUm3X2</td>\n",
              "      <td>1922-03-21</td>\n",
              "      <td>0.434</td>\n",
              "      <td>0.177</td>\n",
              "      <td>1.0</td>\n",
              "      <td>-21.180</td>\n",
              "      <td>1.0</td>\n",
              "      <td>0.0512</td>\n",
              "      <td>0.994</td>\n",
              "      <td>0.0218</td>\n",
              "      <td>0.212</td>\n",
              "      <td>0.457</td>\n",
              "      <td>130.418</td>\n",
              "      <td>5.0</td>\n",
              "    </tr>\n",
              "  </tbody>\n",
              "</table>\n",
              "</div>\n",
              "      <button class=\"colab-df-convert\" onclick=\"convertToInteractive('df-932dcd66-f862-4163-8259-76ec6826f10f')\"\n",
              "              title=\"Convert this dataframe to an interactive table.\"\n",
              "              style=\"display:none;\">\n",
              "        \n",
              "  <svg xmlns=\"http://www.w3.org/2000/svg\" height=\"24px\"viewBox=\"0 0 24 24\"\n",
              "       width=\"24px\">\n",
              "    <path d=\"M0 0h24v24H0V0z\" fill=\"none\"/>\n",
              "    <path d=\"M18.56 5.44l.94 2.06.94-2.06 2.06-.94-2.06-.94-.94-2.06-.94 2.06-2.06.94zm-11 1L8.5 8.5l.94-2.06 2.06-.94-2.06-.94L8.5 2.5l-.94 2.06-2.06.94zm10 10l.94 2.06.94-2.06 2.06-.94-2.06-.94-.94-2.06-.94 2.06-2.06.94z\"/><path d=\"M17.41 7.96l-1.37-1.37c-.4-.4-.92-.59-1.43-.59-.52 0-1.04.2-1.43.59L10.3 9.45l-7.72 7.72c-.78.78-.78 2.05 0 2.83L4 21.41c.39.39.9.59 1.41.59.51 0 1.02-.2 1.41-.59l7.78-7.78 2.81-2.81c.8-.78.8-2.07 0-2.86zM5.41 20L4 18.59l7.72-7.72 1.47 1.35L5.41 20z\"/>\n",
              "  </svg>\n",
              "      </button>\n",
              "      \n",
              "  <style>\n",
              "    .colab-df-container {\n",
              "      display:flex;\n",
              "      flex-wrap:wrap;\n",
              "      gap: 12px;\n",
              "    }\n",
              "\n",
              "    .colab-df-convert {\n",
              "      background-color: #E8F0FE;\n",
              "      border: none;\n",
              "      border-radius: 50%;\n",
              "      cursor: pointer;\n",
              "      display: none;\n",
              "      fill: #1967D2;\n",
              "      height: 32px;\n",
              "      padding: 0 0 0 0;\n",
              "      width: 32px;\n",
              "    }\n",
              "\n",
              "    .colab-df-convert:hover {\n",
              "      background-color: #E2EBFA;\n",
              "      box-shadow: 0px 1px 2px rgba(60, 64, 67, 0.3), 0px 1px 3px 1px rgba(60, 64, 67, 0.15);\n",
              "      fill: #174EA6;\n",
              "    }\n",
              "\n",
              "    [theme=dark] .colab-df-convert {\n",
              "      background-color: #3B4455;\n",
              "      fill: #D2E3FC;\n",
              "    }\n",
              "\n",
              "    [theme=dark] .colab-df-convert:hover {\n",
              "      background-color: #434B5C;\n",
              "      box-shadow: 0px 1px 3px 1px rgba(0, 0, 0, 0.15);\n",
              "      filter: drop-shadow(0px 1px 2px rgba(0, 0, 0, 0.3));\n",
              "      fill: #FFFFFF;\n",
              "    }\n",
              "  </style>\n",
              "\n",
              "      <script>\n",
              "        const buttonEl =\n",
              "          document.querySelector('#df-932dcd66-f862-4163-8259-76ec6826f10f button.colab-df-convert');\n",
              "        buttonEl.style.display =\n",
              "          google.colab.kernel.accessAllowed ? 'block' : 'none';\n",
              "\n",
              "        async function convertToInteractive(key) {\n",
              "          const element = document.querySelector('#df-932dcd66-f862-4163-8259-76ec6826f10f');\n",
              "          const dataTable =\n",
              "            await google.colab.kernel.invokeFunction('convertToInteractive',\n",
              "                                                     [key], {});\n",
              "          if (!dataTable) return;\n",
              "\n",
              "          const docLinkHtml = 'Like what you see? Visit the ' +\n",
              "            '<a target=\"_blank\" href=https://colab.research.google.com/notebooks/data_table.ipynb>data table notebook</a>'\n",
              "            + ' to learn more about interactive tables.';\n",
              "          element.innerHTML = '';\n",
              "          dataTable['output_type'] = 'display_data';\n",
              "          await google.colab.output.renderOutput(dataTable, element);\n",
              "          const docLink = document.createElement('div');\n",
              "          docLink.innerHTML = docLinkHtml;\n",
              "          element.appendChild(docLink);\n",
              "        }\n",
              "      </script>\n",
              "    </div>\n",
              "  </div>\n",
              "  "
            ]
          },
          "metadata": {},
          "execution_count": 18
        }
      ]
    },
    {
      "cell_type": "code",
      "source": [
        "tracks_mod.columns"
      ],
      "metadata": {
        "colab": {
          "base_uri": "https://localhost:8080/"
        },
        "id": "gt24FTbECJAi",
        "outputId": "136876d8-57a7-4831-fd9b-f5a7adc6e0e2"
      },
      "execution_count": null,
      "outputs": [
        {
          "output_type": "execute_result",
          "data": {
            "text/plain": [
              "Index(['id', 'name', 'popularity', 'duration_ms', 'explicit', 'artists',\n",
              "       'id_artists', 'release_date', 'danceability', 'energy', 'key',\n",
              "       'loudness', 'mode', 'speechiness', 'acousticness', 'instrumentalness',\n",
              "       'liveness', 'valence', 'tempo', 'time_signature'],\n",
              "      dtype='object')"
            ]
          },
          "metadata": {},
          "execution_count": 19
        }
      ]
    },
    {
      "cell_type": "code",
      "source": [
        "# Configuramos los campos que tendra la tabla en BQ.\n",
        "\n",
        "job_config_tracks = bigquery.LoadJobConfig(\n",
        "    schema=[\n",
        "        # Supported datatypes: https://cloud.google.com/bigquery/docs/reference/standard-sql/data-types\n",
        "        bigquery.SchemaField(\"id\", bigquery.enums.SqlTypeNames.STRING),\n",
        "        bigquery.SchemaField(\"name\", bigquery.enums.SqlTypeNames.STRING),\n",
        "        bigquery.SchemaField(\"popularity\", bigquery.enums.SqlTypeNames.FLOAT64),\n",
        "        bigquery.SchemaField(\"duration_ms\", bigquery.enums.SqlTypeNames.FLOAT64),\n",
        "        bigquery.SchemaField(\"explicit\", bigquery.enums.SqlTypeNames.FLOAT64)\n",
        "        ,bigquery.SchemaField(\"artists\", bigquery.enums.SqlTypeNames.STRING)\n",
        "        ,bigquery.SchemaField(\"id_artists\", bigquery.enums.SqlTypeNames.STRING)\n",
        "        ,bigquery.SchemaField(\"release_date\", bigquery.enums.SqlTypeNames.STRING)\n",
        "        ,bigquery.SchemaField(\"danceability\", bigquery.enums.SqlTypeNames.FLOAT64)\n",
        "        ,bigquery.SchemaField(\"energy\", bigquery.enums.SqlTypeNames.FLOAT64)\n",
        "        ,bigquery.SchemaField(\"key\", bigquery.enums.SqlTypeNames.FLOAT64)\n",
        "        ,bigquery.SchemaField(\"loudness\", bigquery.enums.SqlTypeNames.FLOAT64)\n",
        "        ,bigquery.SchemaField(\"mode\", bigquery.enums.SqlTypeNames.FLOAT64)\n",
        "        ,bigquery.SchemaField(\"speechiness\", bigquery.enums.SqlTypeNames.FLOAT64)\n",
        "        ,bigquery.SchemaField(\"acousticness\", bigquery.enums.SqlTypeNames.FLOAT64)\n",
        "        ,bigquery.SchemaField(\"instrumentalness\", bigquery.enums.SqlTypeNames.FLOAT64)\n",
        "        ,bigquery.SchemaField(\"liveness\", bigquery.enums.SqlTypeNames.FLOAT64)\n",
        "        ,bigquery.SchemaField(\"valence\", bigquery.enums.SqlTypeNames.FLOAT64)\n",
        "        ,bigquery.SchemaField(\"tempo\", bigquery.enums.SqlTypeNames.FLOAT64)\n",
        "        ,bigquery.SchemaField(\"time_signature\", bigquery.enums.SqlTypeNames.FLOAT64)\n",
        "    ],\n",
        "    # Drod and re-create table, if exist\n",
        "    write_disposition=\"WRITE_TRUNCATE\"\n",
        ")"
      ],
      "metadata": {
        "id": "x6Rt5sRD-KHY"
      },
      "execution_count": null,
      "outputs": []
    },
    {
      "cell_type": "code",
      "source": [],
      "metadata": {
        "id": "1B7FTuhxQ-FB"
      },
      "execution_count": null,
      "outputs": []
    },
    {
      "cell_type": "code",
      "source": [
        "## Establecemos el nombre y la ruta de la tabla en bigquery.\n",
        "BQ_TABLE_NAME_tracks = f\"tablas_proyecto.tracks\"\n"
      ],
      "metadata": {
        "id": "hDRKjSEE-KK8"
      },
      "execution_count": null,
      "outputs": []
    },
    {
      "cell_type": "code",
      "source": [
        "# Enviamos la Tabla a Bigquery.\n",
        "job = client.load_table_from_dataframe(tracks_mod, BQ_TABLE_NAME_tracks, job_config=job_config_tracks)\n",
        "job.result()"
      ],
      "metadata": {
        "colab": {
          "base_uri": "https://localhost:8080/"
        },
        "id": "M1MH4QrXATsZ",
        "outputId": "a8a29111-6c0d-4b1e-df2b-015b382de6bc"
      },
      "execution_count": null,
      "outputs": [
        {
          "output_type": "execute_result",
          "data": {
            "text/plain": [
              "LoadJob<project=proyecto-gestion-datos, location=US, id=7a9958c4-fa18-4549-8239-0035eb92bb85>"
            ]
          },
          "metadata": {},
          "execution_count": 22
        }
      ]
    },
    {
      "cell_type": "code",
      "source": [
        "# Verificamos si el proceso de subida de la tabla a nuestro espacio fue exitoso.\n",
        "table = client.get_table(BQ_TABLE_NAME_tracks)\n",
        "print(\"Loaded {} rows and {} columns to {}\".format(table.num_rows, len(table.schema), BQ_TABLE_NAME_tracks)) "
      ],
      "metadata": {
        "colab": {
          "base_uri": "https://localhost:8080/"
        },
        "id": "NN5UXoWK-KOO",
        "outputId": "97e4ec28-a69e-4dca-ebc3-7c3c8e1c29c5"
      },
      "execution_count": null,
      "outputs": [
        {
          "output_type": "stream",
          "name": "stdout",
          "text": [
            "Loaded 348066 rows and 20 columns to tablas_proyecto.tracks\n"
          ]
        }
      ]
    },
    {
      "cell_type": "code",
      "source": [],
      "metadata": {
        "id": "KdiS92Jz-KRR"
      },
      "execution_count": null,
      "outputs": []
    },
    {
      "cell_type": "code",
      "source": [],
      "metadata": {
        "id": "-JwwsFJprm_Q"
      },
      "execution_count": null,
      "outputs": []
    }
  ]
}